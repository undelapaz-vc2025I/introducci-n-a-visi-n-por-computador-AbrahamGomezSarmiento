{
 "cells": [
  {
   "cell_type": "markdown",
   "id": "33948444-7f52-4d95-8fd9-00d296d76b95",
   "metadata": {},
   "source": [
    "# Cuaderno de prueba de los ejercicios desarrollados en el repositorio"
   ]
  },
  {
   "cell_type": "markdown",
   "id": "01eba56b-3036-43fe-a280-563af678f4a0",
   "metadata": {},
   "source": [
    "A continuación se muestran ejemplos de uso de las funciones implementadas en el repositorio"
   ]
  },
  {
   "cell_type": "markdown",
   "id": "0e189312-6566-4562-8e95-9b71a39cfc2f",
   "metadata": {},
   "source": [
    "Cargamos las funciones que vamos a probar:"
   ]
  },
  {
   "cell_type": "code",
   "execution_count": null,
   "id": "3f3e31bb-ac09-4278-a0fe-a087573cbda0",
   "metadata": {},
   "outputs": [],
   "source": [
    "from codigo_estudiante import leer_imagen, obtener_info_imagen, imagen_a_arreglo, estadisticas_intensidad, estadisticas_por_canal"
   ]
  },
  {
   "cell_type": "markdown",
   "id": "93364706-7a8e-4b44-8de3-db23514eafa5",
   "metadata": {},
   "source": [
    "Cargamos otras librerías que usaremos en las pruebas"
   ]
  },
  {
   "cell_type": "code",
   "execution_count": null,
   "id": "132c8d47-8463-45fd-82a4-86958e84ec5b",
   "metadata": {},
   "outputs": [],
   "source": [
    "import os\n",
    "import numpy as np\n",
    "from PIL import Image"
   ]
  },
  {
   "cell_type": "markdown",
   "id": "f44bae4c-aab7-4707-a98d-476d81e94666",
   "metadata": {},
   "source": [
    "Probamos \"leer_imagen\""
   ]
  },
  {
   "cell_type": "code",
   "execution_count": null,
   "id": "e8342904-a9b4-4544-be85-6b86049b5e23",
   "metadata": {},
   "outputs": [],
   "source": [
    "ruta_imagen = os.path.join(\"data\",\"imagen0.png\")\n",
    "img = leer_imagen(ruta_imagen)"
   ]
  },
  {
   "cell_type": "markdown",
   "id": "b1d3375c-3ec4-4e95-a476-19d65efe250e",
   "metadata": {},
   "source": [
    "Mostramos la imagen"
   ]
  },
  {
   "cell_type": "code",
   "execution_count": null,
   "id": "c7114f96-651a-4066-9650-44ec43ad00f5",
   "metadata": {},
   "outputs": [],
   "source": [
    "display(img)"
   ]
  },
  {
   "cell_type": "markdown",
   "id": "f36c4e12-b742-48a3-8171-4e62e831ff9b",
   "metadata": {},
   "source": [
    "Probamos \"obtener_info_imagen\""
   ]
  },
  {
   "cell_type": "code",
   "execution_count": null,
   "id": "c3aa7d4d-fb2b-4b6c-8ad2-4ab42f68fd68",
   "metadata": {},
   "outputs": [],
   "source": [
    "num_canales, dimensiones = obtener_info_imagen(img)\n",
    "print(f\"La imagen tiene dimensiones (ancho, alto) igual a {dimensiones} y {num_canales} canales\")"
   ]
  },
  {
   "cell_type": "markdown",
   "id": "6234e670-a134-4935-9fce-0158a320f6d0",
   "metadata": {},
   "source": [
    "Probamos \"imagen_a_arreglo\""
   ]
  },
  {
   "cell_type": "code",
   "execution_count": null,
   "id": "9a202739-c68f-4c4a-9a6b-2e1f5304a2c2",
   "metadata": {},
   "outputs": [],
   "source": [
    "arreglo_img = imagen_a_arreglo(img)\n",
    "print(f\"Las dimensiones del tensor son {arreglo_img.shape}\")"
   ]
  },
  {
   "cell_type": "markdown",
   "id": "cb6f78d8-1b5d-4d29-9f5f-d12dbf6bca74",
   "metadata": {},
   "source": [
    "Probamos \"estadisticas_intensidad\""
   ]
  },
  {
   "cell_type": "code",
   "execution_count": null,
   "id": "ad6b5f20-5056-4d34-8d08-50213957e736",
   "metadata": {},
   "outputs": [],
   "source": [
    "promedio, desviacion_estandar = estadisticas_intensidad(arreglo_img)\n",
    "print(f\"Promedio (desviación) de intensidades: {promedio:.2f} ({desviacion_estandar:.2f})\")"
   ]
  },
  {
   "cell_type": "markdown",
   "id": "06c2dc78-7904-4226-8679-8f3a1a4bf2fb",
   "metadata": {},
   "source": [
    "Probamos \"estadisticas_por_canal\""
   ]
  },
  {
   "cell_type": "code",
   "execution_count": null,
   "id": "96e892c7-5182-4b43-ac79-dc4b9e05fb50",
   "metadata": {},
   "outputs": [],
   "source": [
    "resultados = estadisticas_por_canal(arreglo_img)\n",
    "print(f\"Canal Rojo: Promedio (desviación): {resultados['Canal_1']['Promedio']:.2f} ({resultados['Canal_1']['Desviación Estándar']:.2f})\")\n",
    "print(f\"Canal Verde: Promedio (desviación): {resultados['Canal_2']['Promedio']:.2f} ({resultados['Canal_2']['Desviación Estándar']:.2f})\")\n",
    "print(f\"Canal Azul: Promedio (desviación): {resultados['Canal_3']['Promedio']:.2f} ({resultados['Canal_3']['Desviación Estándar']:.2f})\")"
   ]
  }
 ],
 "metadata": {
  "kernelspec": {
   "display_name": "Python 3 (ipykernel)",
   "language": "python",
   "name": "python3"
  },
  "language_info": {
   "codemirror_mode": {
    "name": "ipython",
    "version": 3
   },
   "file_extension": ".py",
   "mimetype": "text/x-python",
   "name": "python",
   "nbconvert_exporter": "python",
   "pygments_lexer": "ipython3",
   "version": "3.11.2"
  }
 },
 "nbformat": 4,
 "nbformat_minor": 5
}
